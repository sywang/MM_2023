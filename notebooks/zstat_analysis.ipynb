{
 "cells": [
  {
   "cell_type": "code",
   "execution_count": 1,
   "metadata": {
    "collapsed": true,
    "ExecuteTime": {
     "end_time": "2023-08-28T19:24:33.843914100Z",
     "start_time": "2023-08-28T19:24:33.805132100Z"
    }
   },
   "outputs": [],
   "source": [
    "import sys\n",
    "\n",
    "import pandas as pd\n",
    "\n",
    "sys.path.append('/home/labs/amit/noamsh/repos/MM_2023')"
   ]
  },
  {
   "cell_type": "markdown",
   "source": [],
   "metadata": {
    "collapsed": false
   }
  },
  {
   "cell_type": "code",
   "execution_count": 3,
   "outputs": [],
   "source": [
    "from pathlib import Path\n",
    "from data_loading.utils import load_dataframe_from_file"
   ],
   "metadata": {
    "collapsed": false,
    "ExecuteTime": {
     "end_time": "2023-08-28T19:29:44.807903300Z",
     "start_time": "2023-08-28T19:29:44.792457400Z"
    }
   }
  },
  {
   "cell_type": "code",
   "execution_count": 4,
   "outputs": [],
   "source": [
    "zstat_MARS_PATH = Path(\"/home/labs/amit/noamsh/repos/MM_2023/notebooks/tmp_data/zstat_MARS_SPID_20230713/zstat_MARS_20230713.txt\")\n",
    "zstat_SPID_PATH = Path(\"/home/labs/amit/noamsh/repos/MM_2023/notebooks/tmp_data/zstat_MARS_SPID_20230713/zstat_SPID_20230621.txt\")\n",
    "\n",
    "mars_zstat_df = load_dataframe_from_file(zstat_MARS_PATH).set_index('Unnamed: 0')\n",
    "spid_zstat_df = load_dataframe_from_file(zstat_SPID_PATH).set_index('Unnamed: 0')"
   ],
   "metadata": {
    "collapsed": false,
    "ExecuteTime": {
     "end_time": "2023-08-28T19:29:46.390233600Z",
     "start_time": "2023-08-28T19:29:45.859491400Z"
    }
   }
  },
  {
   "cell_type": "code",
   "execution_count": 5,
   "outputs": [
    {
     "data": {
      "text/plain": "((26060, 100), (20164, 26))"
     },
     "execution_count": 5,
     "metadata": {},
     "output_type": "execute_result"
    }
   ],
   "source": [
    "mars_zstat_df.shape, spid_zstat_df.shape"
   ],
   "metadata": {
    "collapsed": false,
    "ExecuteTime": {
     "end_time": "2023-08-28T19:29:50.404134800Z",
     "start_time": "2023-08-28T19:29:50.397122200Z"
    }
   }
  },
  {
   "cell_type": "code",
   "execution_count": 13,
   "outputs": [
    {
     "data": {
      "text/plain": "Unnamed: 0      CD74  BLOC1S5-TXNDC5     EDNRB     TXNIP    SEL1L3      XBP1  \\\nz.01-001   -9.140728       -7.879403  7.729183 -7.062230 -6.269472 -6.015916   \nz.01-004   -9.523036       -4.188460  4.768695 -6.229100 -5.504699 -5.044211   \nz.01-005   -0.556172       -4.395958  7.878478 -6.195600 -1.549227 -9.887444   \nz.01-006   -8.935792       -7.000249  0.656436 -7.366635 -5.095510 -4.855798   \nz.01-007   -7.473919       -9.935154 -0.036445 -7.502347 -6.261870 -7.689419   \n\nUnnamed: 0      PSAP    FKBP11      CST3      THY1  ...  ZP1  ZPBP  ZPLD1  \\\nz.01-001   -5.848403 -5.726565  5.571093  5.316221  ...  0.0   0.0    0.0   \nz.01-004   -5.751822 -7.160231 -3.092694  0.000000  ...  0.0   0.0    0.0   \nz.01-005   -4.693670 -5.998225  0.890029  0.000000  ...  0.0   0.0    0.0   \nz.01-006   -5.166514 -2.831538 -1.440518  0.000000  ...  0.0   0.0    0.0   \nz.01-007   -4.330985 -4.151686  0.188437  0.000000  ...  0.0   0.0    0.0   \n\nUnnamed: 0  ZSCAN10  ZSCAN12P1  ZSCAN4  ZSCAN5C  ZSWIM5P3  ZYG11AP1  ZYXP1  \nz.01-001        0.0        0.0     0.0      0.0       0.0       0.0    0.0  \nz.01-004        0.0        0.0     0.0      0.0       0.0       0.0    0.0  \nz.01-005        0.0        0.0     0.0      0.0       0.0       0.0    0.0  \nz.01-006        0.0        0.0     0.0      0.0       0.0       0.0    0.0  \nz.01-007        0.0        0.0     0.0      0.0       0.0       0.0    0.0  \n\n[5 rows x 26060 columns]",
      "text/html": "<div>\n<style scoped>\n    .dataframe tbody tr th:only-of-type {\n        vertical-align: middle;\n    }\n\n    .dataframe tbody tr th {\n        vertical-align: top;\n    }\n\n    .dataframe thead th {\n        text-align: right;\n    }\n</style>\n<table border=\"1\" class=\"dataframe\">\n  <thead>\n    <tr style=\"text-align: right;\">\n      <th>Unnamed: 0</th>\n      <th>CD74</th>\n      <th>BLOC1S5-TXNDC5</th>\n      <th>EDNRB</th>\n      <th>TXNIP</th>\n      <th>SEL1L3</th>\n      <th>XBP1</th>\n      <th>PSAP</th>\n      <th>FKBP11</th>\n      <th>CST3</th>\n      <th>THY1</th>\n      <th>...</th>\n      <th>ZP1</th>\n      <th>ZPBP</th>\n      <th>ZPLD1</th>\n      <th>ZSCAN10</th>\n      <th>ZSCAN12P1</th>\n      <th>ZSCAN4</th>\n      <th>ZSCAN5C</th>\n      <th>ZSWIM5P3</th>\n      <th>ZYG11AP1</th>\n      <th>ZYXP1</th>\n    </tr>\n  </thead>\n  <tbody>\n    <tr>\n      <th>z.01-001</th>\n      <td>-9.140728</td>\n      <td>-7.879403</td>\n      <td>7.729183</td>\n      <td>-7.062230</td>\n      <td>-6.269472</td>\n      <td>-6.015916</td>\n      <td>-5.848403</td>\n      <td>-5.726565</td>\n      <td>5.571093</td>\n      <td>5.316221</td>\n      <td>...</td>\n      <td>0.0</td>\n      <td>0.0</td>\n      <td>0.0</td>\n      <td>0.0</td>\n      <td>0.0</td>\n      <td>0.0</td>\n      <td>0.0</td>\n      <td>0.0</td>\n      <td>0.0</td>\n      <td>0.0</td>\n    </tr>\n    <tr>\n      <th>z.01-004</th>\n      <td>-9.523036</td>\n      <td>-4.188460</td>\n      <td>4.768695</td>\n      <td>-6.229100</td>\n      <td>-5.504699</td>\n      <td>-5.044211</td>\n      <td>-5.751822</td>\n      <td>-7.160231</td>\n      <td>-3.092694</td>\n      <td>0.000000</td>\n      <td>...</td>\n      <td>0.0</td>\n      <td>0.0</td>\n      <td>0.0</td>\n      <td>0.0</td>\n      <td>0.0</td>\n      <td>0.0</td>\n      <td>0.0</td>\n      <td>0.0</td>\n      <td>0.0</td>\n      <td>0.0</td>\n    </tr>\n    <tr>\n      <th>z.01-005</th>\n      <td>-0.556172</td>\n      <td>-4.395958</td>\n      <td>7.878478</td>\n      <td>-6.195600</td>\n      <td>-1.549227</td>\n      <td>-9.887444</td>\n      <td>-4.693670</td>\n      <td>-5.998225</td>\n      <td>0.890029</td>\n      <td>0.000000</td>\n      <td>...</td>\n      <td>0.0</td>\n      <td>0.0</td>\n      <td>0.0</td>\n      <td>0.0</td>\n      <td>0.0</td>\n      <td>0.0</td>\n      <td>0.0</td>\n      <td>0.0</td>\n      <td>0.0</td>\n      <td>0.0</td>\n    </tr>\n    <tr>\n      <th>z.01-006</th>\n      <td>-8.935792</td>\n      <td>-7.000249</td>\n      <td>0.656436</td>\n      <td>-7.366635</td>\n      <td>-5.095510</td>\n      <td>-4.855798</td>\n      <td>-5.166514</td>\n      <td>-2.831538</td>\n      <td>-1.440518</td>\n      <td>0.000000</td>\n      <td>...</td>\n      <td>0.0</td>\n      <td>0.0</td>\n      <td>0.0</td>\n      <td>0.0</td>\n      <td>0.0</td>\n      <td>0.0</td>\n      <td>0.0</td>\n      <td>0.0</td>\n      <td>0.0</td>\n      <td>0.0</td>\n    </tr>\n    <tr>\n      <th>z.01-007</th>\n      <td>-7.473919</td>\n      <td>-9.935154</td>\n      <td>-0.036445</td>\n      <td>-7.502347</td>\n      <td>-6.261870</td>\n      <td>-7.689419</td>\n      <td>-4.330985</td>\n      <td>-4.151686</td>\n      <td>0.188437</td>\n      <td>0.000000</td>\n      <td>...</td>\n      <td>0.0</td>\n      <td>0.0</td>\n      <td>0.0</td>\n      <td>0.0</td>\n      <td>0.0</td>\n      <td>0.0</td>\n      <td>0.0</td>\n      <td>0.0</td>\n      <td>0.0</td>\n      <td>0.0</td>\n    </tr>\n  </tbody>\n</table>\n<p>5 rows × 26060 columns</p>\n</div>"
     },
     "execution_count": 13,
     "metadata": {},
     "output_type": "execute_result"
    }
   ],
   "source": [
    "mars_zstat_df.T.head()"
   ],
   "metadata": {
    "collapsed": false,
    "ExecuteTime": {
     "end_time": "2023-08-28T19:35:53.248767900Z",
     "start_time": "2023-08-28T19:35:53.229961200Z"
    }
   }
  },
  {
   "cell_type": "code",
   "execution_count": 8,
   "outputs": [],
   "source": [
    "import umap"
   ],
   "metadata": {
    "collapsed": false,
    "ExecuteTime": {
     "end_time": "2023-08-28T19:32:24.329182800Z",
     "start_time": "2023-08-28T19:32:04.897005100Z"
    }
   }
  },
  {
   "cell_type": "code",
   "execution_count": 32,
   "outputs": [],
   "source": [
    "mapper = umap.UMAP(n_neighbors=3, metric=\"cosine\").fit(mars_zstat_df.T)\n",
    "# metrics: cosine"
   ],
   "metadata": {
    "collapsed": false,
    "ExecuteTime": {
     "end_time": "2023-08-28T19:42:41.991010Z",
     "start_time": "2023-08-28T19:42:39.282754Z"
    }
   }
  },
  {
   "cell_type": "code",
   "execution_count": 30,
   "outputs": [],
   "source": [
    "import umap.plot"
   ],
   "metadata": {
    "collapsed": false,
    "ExecuteTime": {
     "end_time": "2023-08-28T19:42:28.865691100Z",
     "start_time": "2023-08-28T19:42:28.860700500Z"
    }
   }
  },
  {
   "cell_type": "code",
   "execution_count": 33,
   "outputs": [
    {
     "name": "stderr",
     "output_type": "stream",
     "text": [
      "*c* argument looks like a single numeric RGB or RGBA sequence, which should be avoided as value-mapping will have precedence in case its length matches with *x* & *y*.  Please use the *color* keyword-argument or provide a 2D array with a single row if you intend to specify the same RGB or RGBA value for all points.\n"
     ]
    },
    {
     "data": {
      "text/plain": "<AxesSubplot:>"
     },
     "execution_count": 33,
     "metadata": {},
     "output_type": "execute_result"
    },
    {
     "data": {
      "text/plain": "<Figure size 800x800 with 1 Axes>",
      "image/png": "[encoded data removed]"
     },
     "metadata": {},
     "output_type": "display_data"
    }
   ],
   "source": [
    "umap.plot.points(mapper)"
   ],
   "metadata": {
    "collapsed": false,
    "ExecuteTime": {
     "end_time": "2023-08-28T19:42:42.074183900Z",
     "start_time": "2023-08-28T19:42:41.995241600Z"
    }
   }
  },
  {
   "cell_type": "code",
   "execution_count": 44,
   "outputs": [],
   "source": [
    "from sklearn.decomposition import NMF\n",
    "model = NMF(n_components=2, init='random', random_state=0)\n",
    "W = model.fit_transform(abs(mars_zstat_df.T + abs(mars_zstat_df.T)/2))\n",
    "H = model.components_"
   ],
   "metadata": {
    "collapsed": false,
    "ExecuteTime": {
     "end_time": "2023-08-28T19:49:11.043744900Z",
     "start_time": "2023-08-28T19:49:10.480127100Z"
    }
   }
  },
  {
   "cell_type": "code",
   "execution_count": 47,
   "outputs": [
    {
     "data": {
      "text/plain": "(100, 26060)"
     },
     "execution_count": 47,
     "metadata": {},
     "output_type": "execute_result"
    }
   ],
   "source": [
    "mars_zstat_df.T.shape"
   ],
   "metadata": {
    "collapsed": false,
    "ExecuteTime": {
     "end_time": "2023-08-28T19:49:59.639039800Z",
     "start_time": "2023-08-28T19:49:59.636599500Z"
    }
   }
  }
 ],
 "metadata": {
  "kernelspec": {
   "display_name": "Python 3",
   "language": "python",
   "name": "python3"
  },
  "language_info": {
   "codemirror_mode": {
    "name": "ipython",
    "version": 2
   },
   "file_extension": ".py",
   "mimetype": "text/x-python",
   "name": "python",
   "nbconvert_exporter": "python",
   "pygments_lexer": "ipython2",
   "version": "2.7.6"
  }
 },
 "nbformat": 4,
 "nbformat_minor": 0
}
